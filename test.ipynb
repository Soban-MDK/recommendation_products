{
 "cells": [
  {
   "cell_type": "code",
   "execution_count": null,
   "metadata": {},
   "outputs": [
    {
     "name": "stdout",
     "output_type": "stream",
     "text": [
      "Requirement already satisfied: python-dotenv in c:\\users\\medkart\\appdata\\local\\programs\\python\\python313\\lib\\site-packages (1.0.1)\n"
     ]
    }
   ],
   "source": []
  },
  {
   "cell_type": "code",
   "execution_count": 3,
   "metadata": {},
   "outputs": [],
   "source": [
    "import pandas as pd\n",
    "import os\n",
    "\n",
    "from dotenv import load_dotenv"
   ]
  },
  {
   "cell_type": "code",
   "execution_count": 4,
   "metadata": {},
   "outputs": [],
   "source": [
    "import os\n",
    "from dotenv import load_dotenv\n",
    "\n",
    "load_dotenv()\n",
    "LOG_FILE = os.getenv('LOG_FILE')\n",
    "\n",
    "DB_WMS_HOST = os.getenv(\"DB_WMS_READ_HOST\")\n",
    "DB_WMS_PORT = os.getenv(\"DB_WMS_PORT\")\n",
    "DB_WMS_NAME = os.getenv(\"DB_WMS_NAME\")\n",
    "DB_WMS_USER = os.getenv(\"DB_WMS_USER\")\n",
    "DB_WMS_PASS = os.getenv(\"DB_WMS_PASS\")\n",
    "\n",
    "DB_MRE_HOST = os.getenv(\"DB_MRE_HOST\")\n",
    "DB_MRE_PORT = os.getenv(\"DB_MRE_PORT\")\n",
    "DB_MRE_NAME = os.getenv(\"DB_MRE_NAME\")\n",
    "DB_MRE_USER = os.getenv(\"DB_MRE_USER\")\n",
    "DB_MRE_PASS = os.getenv(\"DB_MRE_PASS\")\n",
    "\n",
    "DB_POS_HOST = os.getenv(\"DB_POS_READ_HOST\")\n",
    "DB_POS_PORT = os.getenv(\"DB_POS_PORT\")\n",
    "DB_POS_NAME = os.getenv(\"DB_POS_NAME\")\n",
    "DB_POS_USER = os.getenv(\"DB_POS_USER\")\n",
    "DB_POS_PASS = os.getenv(\"DB_POS_PASS\")\n",
    "\n",
    "DB_ECOM_HOST = os.getenv(\"DB_ECOM_READ_HOST\")\n",
    "DB_ECOM_PORT = os.getenv(\"DB_ECOM_PORT\")\n",
    "DB_ECOM_NAME = os.getenv(\"DB_ECOM_NAME\")\n",
    "DB_ECOM_USER = os.getenv(\"DB_ECOM_USER\")\n",
    "DB_ECOM_PASS = os.getenv(\"DB_ECOM_PASS\")\n",
    "\n",
    "\n",
    "def conn_string_mre():\n",
    "    return f\"postgresql://{DB_MRE_USER}:{DB_MRE_PASS}@{DB_MRE_HOST}/{DB_MRE_NAME}\"\n",
    "\n",
    "def conn_string_ecom():\n",
    "    return f\"postgresql://{DB_ECOM_USER}:{DB_ECOM_PASS}@{DB_ECOM_HOST}/{DB_ECOM_NAME}\"\n",
    "\n",
    "def conn_string_read_wms():\n",
    "    return f\"postgresql://{DB_WMS_USER}:{DB_WMS_PASS}@{DB_WMS_HOST}/{DB_WMS_NAME}\"\n",
    "\n",
    "def conn_string_read_pos():\n",
    "    return f\"postgresql://{DB_POS_USER}:{DB_POS_PASS}@{DB_POS_HOST}/{DB_POS_NAME}\""
   ]
  },
  {
   "cell_type": "code",
   "execution_count": 5,
   "metadata": {},
   "outputs": [],
   "source": [
    "from config.settings import conn_string_ecom,conn_string_read_pos,conn_string_read_wms,conn_string_mre\n",
    "from sqlalchemy import create_engine,text\n",
    "from sqlalchemy.orm import sessionmaker\n",
    "\n",
    "\n",
    "def get_db_engine_ecom():\n",
    "    return create_engine(conn_string_ecom())\n",
    "\n",
    "def get_db_engine_mre():\n",
    "    return create_engine(conn_string_mre())\n",
    "\n",
    "def get_db_engine_pos():\n",
    "    return create_engine(conn_string_read_pos())\n",
    "\n",
    "def get_db_engine_wms():\n",
    "    return create_engine(conn_string_read_wms())"
   ]
  },
  {
   "cell_type": "code",
   "execution_count": 7,
   "metadata": {},
   "outputs": [],
   "source": [
    "from sqlalchemy.orm import sessionmaker\n",
    "from utils.logger import logging,logger\n",
    "import pandas as pd\n",
    "from sqlalchemy.sql import text\n",
    "\n",
    "def get_data(query,engine):\n",
    "    try:\n",
    "        engine_mre_read = engine\n",
    "        with engine_mre_read.connect() as conn:\n",
    "            result = conn.execute(text(query))\n",
    "            rows = result.fetchall()\n",
    "            columns = result.keys()\n",
    "            df = pd.DataFrame(rows, columns=columns)\n",
    "            return df\n",
    "    except Exception as e:\n",
    "       logging()\n",
    "       return pd.DataFrame()"
   ]
  },
  {
   "cell_type": "code",
   "execution_count": null,
   "metadata": {},
   "outputs": [],
   "source": [
    "query_sales_invoice_details = '''\n",
    "    SELECT product_id, quantity, created_at, sales_invoice_id, \n",
    "    '''"
   ]
  },
  {
   "cell_type": "code",
   "execution_count": null,
   "metadata": {},
   "outputs": [],
   "source": []
  },
  {
   "cell_type": "code",
   "execution_count": null,
   "metadata": {},
   "outputs": [
    {
     "data": {
      "text/plain": [
       "str"
      ]
     },
     "execution_count": 4,
     "metadata": {},
     "output_type": "execute_result"
    }
   ],
   "source": [
    "from datetime import datetime\n",
    "datetime.now().strftime('%Y-%m-%d %H:%M:%S')"
   ]
  },
  {
   "cell_type": "code",
   "execution_count": null,
   "metadata": {},
   "outputs": [],
   "source": []
  }
 ],
 "metadata": {
  "kernelspec": {
   "display_name": "Python 3",
   "language": "python",
   "name": "python3"
  },
  "language_info": {
   "codemirror_mode": {
    "name": "ipython",
    "version": 3
   },
   "file_extension": ".py",
   "mimetype": "text/x-python",
   "name": "python",
   "nbconvert_exporter": "python",
   "pygments_lexer": "ipython3",
   "version": "3.13.1"
  }
 },
 "nbformat": 4,
 "nbformat_minor": 2
}
